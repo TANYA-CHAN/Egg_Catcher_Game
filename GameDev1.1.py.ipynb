{
 "cells": [
  {
   "cell_type": "code",
   "execution_count": 14,
   "metadata": {},
   "outputs": [],
   "source": [
    "import turtle as t \n",
    "def drawing(horizontal, vertical, color):\n",
    "  t.pendown()#pen down to draw\n",
    "  t.pensize(1)#how big pen to be\n",
    "  t.color(color)\n",
    "  t.begin_fill()\n",
    "  for counter in range(1, 3):\n",
    "    t.forward(horizontal)#------>\n",
    "    t.right(90)#turn\n",
    "    t.forward(vertical)#down\n",
    "    t.right(90)#turn\n",
    "  t.end_fill()#fill the rect\n",
    "  t.speed('slow')#draw it slowly in front of you\n",
    "  t.circle(100)#slowly draws a circle with r 100\n",
    "  t.circle(120)\n",
    "  t.circle(130)\n",
    "  t.bgcolor(\"Yellow\")\n",
    "  t.penup()"
   ]
  },
  {
   "cell_type": "code",
   "execution_count": 15,
   "metadata": {},
   "outputs": [],
   "source": [
    "drawing(100,50,\"red\")"
   ]
  },
  {
   "cell_type": "code",
   "execution_count": null,
   "metadata": {},
   "outputs": [],
   "source": []
  }
 ],
 "metadata": {
  "kernelspec": {
   "display_name": "Python 3",
   "language": "python",
   "name": "python3"
  },
  "language_info": {
   "codemirror_mode": {
    "name": "ipython",
    "version": 3
   },
   "file_extension": ".py",
   "mimetype": "text/x-python",
   "name": "python",
   "nbconvert_exporter": "python",
   "pygments_lexer": "ipython3",
   "version": "3.7.3"
  }
 },
 "nbformat": 4,
 "nbformat_minor": 2
}
